{
 "cells": [
  {
   "cell_type": "code",
   "execution_count": 13,
   "id": "d8d3d7ba",
   "metadata": {},
   "outputs": [],
   "source": [
    "import pandas as pd\n",
    "import numpy as np \n",
    "\n",
    "import matplotlib.pyplot as plt\n",
    "import seaborn as sns\n",
    "\n"
   ]
  },
  {
   "cell_type": "code",
   "execution_count": 14,
   "id": "99c2ddf8",
   "metadata": {},
   "outputs": [
    {
     "data": {
      "text/html": [
       "<div>\n",
       "<style scoped>\n",
       "    .dataframe tbody tr th:only-of-type {\n",
       "        vertical-align: middle;\n",
       "    }\n",
       "\n",
       "    .dataframe tbody tr th {\n",
       "        vertical-align: top;\n",
       "    }\n",
       "\n",
       "    .dataframe thead th {\n",
       "        text-align: right;\n",
       "    }\n",
       "</style>\n",
       "<table border=\"1\" class=\"dataframe\">\n",
       "  <thead>\n",
       "    <tr style=\"text-align: right;\">\n",
       "      <th></th>\n",
       "      <th>Age</th>\n",
       "      <th>Gender</th>\n",
       "      <th>Weight</th>\n",
       "      <th>Height</th>\n",
       "      <th>Body Mass Index</th>\n",
       "      <th>Obesity</th>\n",
       "      <th>Waist</th>\n",
       "      <th>Education</th>\n",
       "      <th>Unmarried</th>\n",
       "      <th>Income</th>\n",
       "      <th>Alcohol Consumption</th>\n",
       "      <th>Diabetes</th>\n",
       "    </tr>\n",
       "  </thead>\n",
       "  <tbody>\n",
       "    <tr>\n",
       "      <th>0</th>\n",
       "      <td>65</td>\n",
       "      <td>1</td>\n",
       "      <td>56.0</td>\n",
       "      <td>162.1</td>\n",
       "      <td>21.31</td>\n",
       "      <td>0.0</td>\n",
       "      <td>83.6</td>\n",
       "      <td>0.0</td>\n",
       "      <td>0.0</td>\n",
       "      <td>1.0</td>\n",
       "      <td>1</td>\n",
       "      <td>0.0</td>\n",
       "    </tr>\n",
       "    <tr>\n",
       "      <th>1</th>\n",
       "      <td>36</td>\n",
       "      <td>1</td>\n",
       "      <td>60.2</td>\n",
       "      <td>162.2</td>\n",
       "      <td>22.88</td>\n",
       "      <td>0.0</td>\n",
       "      <td>76.6</td>\n",
       "      <td>0.0</td>\n",
       "      <td>NaN</td>\n",
       "      <td>1.0</td>\n",
       "      <td>0</td>\n",
       "      <td>0.0</td>\n",
       "    </tr>\n",
       "    <tr>\n",
       "      <th>2</th>\n",
       "      <td>66</td>\n",
       "      <td>1</td>\n",
       "      <td>83.9</td>\n",
       "      <td>162.5</td>\n",
       "      <td>31.77</td>\n",
       "      <td>1.0</td>\n",
       "      <td>113.2</td>\n",
       "      <td>0.0</td>\n",
       "      <td>1.0</td>\n",
       "      <td>0.0</td>\n",
       "      <td>1</td>\n",
       "      <td>1.0</td>\n",
       "    </tr>\n",
       "    <tr>\n",
       "      <th>3</th>\n",
       "      <td>54</td>\n",
       "      <td>1</td>\n",
       "      <td>69.4</td>\n",
       "      <td>160.5</td>\n",
       "      <td>26.94</td>\n",
       "      <td>0.0</td>\n",
       "      <td>77.9</td>\n",
       "      <td>1.0</td>\n",
       "      <td>0.0</td>\n",
       "      <td>0.0</td>\n",
       "      <td>1</td>\n",
       "      <td>0.0</td>\n",
       "    </tr>\n",
       "    <tr>\n",
       "      <th>4</th>\n",
       "      <td>63</td>\n",
       "      <td>1</td>\n",
       "      <td>73.1</td>\n",
       "      <td>159.2</td>\n",
       "      <td>28.84</td>\n",
       "      <td>0.0</td>\n",
       "      <td>89.3</td>\n",
       "      <td>0.0</td>\n",
       "      <td>0.0</td>\n",
       "      <td>NaN</td>\n",
       "      <td>0</td>\n",
       "      <td>0.0</td>\n",
       "    </tr>\n",
       "    <tr>\n",
       "      <th>5</th>\n",
       "      <td>26</td>\n",
       "      <td>0</td>\n",
       "      <td>119.3</td>\n",
       "      <td>193.2</td>\n",
       "      <td>31.96</td>\n",
       "      <td>1.0</td>\n",
       "      <td>117.9</td>\n",
       "      <td>1.0</td>\n",
       "      <td>0.0</td>\n",
       "      <td>0.0</td>\n",
       "      <td>0</td>\n",
       "      <td>0.0</td>\n",
       "    </tr>\n",
       "    <tr>\n",
       "      <th>6</th>\n",
       "      <td>66</td>\n",
       "      <td>0</td>\n",
       "      <td>85.1</td>\n",
       "      <td>172.1</td>\n",
       "      <td>28.73</td>\n",
       "      <td>0.0</td>\n",
       "      <td>99.2</td>\n",
       "      <td>1.0</td>\n",
       "      <td>0.0</td>\n",
       "      <td>0.0</td>\n",
       "      <td>0</td>\n",
       "      <td>0.0</td>\n",
       "    </tr>\n",
       "    <tr>\n",
       "      <th>7</th>\n",
       "      <td>59</td>\n",
       "      <td>1</td>\n",
       "      <td>69.9</td>\n",
       "      <td>160.9</td>\n",
       "      <td>27.00</td>\n",
       "      <td>0.0</td>\n",
       "      <td>101.5</td>\n",
       "      <td>1.0</td>\n",
       "      <td>1.0</td>\n",
       "      <td>0.0</td>\n",
       "      <td>0</td>\n",
       "      <td>1.0</td>\n",
       "    </tr>\n",
       "    <tr>\n",
       "      <th>8</th>\n",
       "      <td>53</td>\n",
       "      <td>1</td>\n",
       "      <td>75.2</td>\n",
       "      <td>174.1</td>\n",
       "      <td>24.81</td>\n",
       "      <td>0.0</td>\n",
       "      <td>85.6</td>\n",
       "      <td>1.0</td>\n",
       "      <td>0.0</td>\n",
       "      <td>1.0</td>\n",
       "      <td>1</td>\n",
       "      <td>0.0</td>\n",
       "    </tr>\n",
       "    <tr>\n",
       "      <th>9</th>\n",
       "      <td>78</td>\n",
       "      <td>1</td>\n",
       "      <td>47.6</td>\n",
       "      <td>155.3</td>\n",
       "      <td>19.74</td>\n",
       "      <td>0.0</td>\n",
       "      <td>70.3</td>\n",
       "      <td>0.0</td>\n",
       "      <td>1.0</td>\n",
       "      <td>0.0</td>\n",
       "      <td>0</td>\n",
       "      <td>1.0</td>\n",
       "    </tr>\n",
       "  </tbody>\n",
       "</table>\n",
       "</div>"
      ],
      "text/plain": [
       "   Age  Gender  Weight  Height  Body Mass Index  Obesity  Waist  Education  \\\n",
       "0   65       1    56.0   162.1            21.31      0.0   83.6        0.0   \n",
       "1   36       1    60.2   162.2            22.88      0.0   76.6        0.0   \n",
       "2   66       1    83.9   162.5            31.77      1.0  113.2        0.0   \n",
       "3   54       1    69.4   160.5            26.94      0.0   77.9        1.0   \n",
       "4   63       1    73.1   159.2            28.84      0.0   89.3        0.0   \n",
       "5   26       0   119.3   193.2            31.96      1.0  117.9        1.0   \n",
       "6   66       0    85.1   172.1            28.73      0.0   99.2        1.0   \n",
       "7   59       1    69.9   160.9            27.00      0.0  101.5        1.0   \n",
       "8   53       1    75.2   174.1            24.81      0.0   85.6        1.0   \n",
       "9   78       1    47.6   155.3            19.74      0.0   70.3        0.0   \n",
       "\n",
       "   Unmarried  Income  Alcohol Consumption  Diabetes  \n",
       "0        0.0     1.0                    1       0.0  \n",
       "1        NaN     1.0                    0       0.0  \n",
       "2        1.0     0.0                    1       1.0  \n",
       "3        0.0     0.0                    1       0.0  \n",
       "4        0.0     NaN                    0       0.0  \n",
       "5        0.0     0.0                    0       0.0  \n",
       "6        0.0     0.0                    0       0.0  \n",
       "7        1.0     0.0                    0       1.0  \n",
       "8        0.0     1.0                    1       0.0  \n",
       "9        1.0     0.0                    0       1.0  "
      ]
     },
     "execution_count": 14,
     "metadata": {},
     "output_type": "execute_result"
    }
   ],
   "source": [
    "dp = pd.read_excel(\"M3_ALF_Data.xlsx\")\n",
    "dp.head(10)"
   ]
  },
  {
   "cell_type": "code",
   "execution_count": 15,
   "id": "5bf7ba4d",
   "metadata": {},
   "outputs": [
    {
     "name": "stdout",
     "output_type": "stream",
     "text": [
      "['Age', 'Weight', 'Height', 'Body Mass Index', 'Waist']\n",
      "\n",
      "\n",
      "['Gender', 'Obesity', 'Education', 'Unmarried', 'Income', 'Alcohol Consumption', 'Diabetes']\n"
     ]
    }
   ],
   "source": [
    "def check_categorical_cols(dataframe,count):\n",
    "    cat_list = []\n",
    "    cont_list = []\n",
    "    for i in dataframe.columns:\n",
    "        if len(dataframe[i].value_counts())>count:\n",
    "            cont_list.append(i)\n",
    "            \n",
    "        else:\n",
    "            cat_list.append(i)\n",
    "            \n",
    "    print(cont_list)\n",
    "    print('\\n')\n",
    "    print(cat_list)\n",
    "    \n",
    "check_categorical_cols(dp,2)"
   ]
  },
  {
   "cell_type": "code",
   "execution_count": 16,
   "id": "17ca6f9c",
   "metadata": {},
   "outputs": [
    {
     "data": {
      "text/plain": [
       "1    4630\n",
       "0    4155\n",
       "Name: Gender, dtype: int64"
      ]
     },
     "execution_count": 16,
     "metadata": {},
     "output_type": "execute_result"
    }
   ],
   "source": [
    "dp[\"Gender\"].value_counts()"
   ]
  },
  {
   "cell_type": "code",
   "execution_count": 17,
   "id": "02bec3c0",
   "metadata": {},
   "outputs": [
    {
     "data": {
      "text/plain": [
       "Age                       0\n",
       "Gender                    0\n",
       "Weight                  194\n",
       "Height                  191\n",
       "Body Mass Index         290\n",
       "Obesity                 290\n",
       "Waist                   314\n",
       "Education                20\n",
       "Unmarried               452\n",
       "Income                 1161\n",
       "Alcohol Consumption       0\n",
       "Diabetes                  2\n",
       "dtype: int64"
      ]
     },
     "execution_count": 17,
     "metadata": {},
     "output_type": "execute_result"
    }
   ],
   "source": [
    "dp.isna().sum()"
   ]
  },
  {
   "cell_type": "code",
   "execution_count": 18,
   "id": "5ca612b2",
   "metadata": {},
   "outputs": [
    {
     "name": "stdout",
     "output_type": "stream",
     "text": [
      "<class 'pandas.core.frame.DataFrame'>\n",
      "RangeIndex: 8785 entries, 0 to 8784\n",
      "Data columns (total 12 columns):\n",
      " #   Column               Non-Null Count  Dtype  \n",
      "---  ------               --------------  -----  \n",
      " 0   Age                  8785 non-null   int64  \n",
      " 1   Gender               8785 non-null   int64  \n",
      " 2   Weight               8591 non-null   float64\n",
      " 3   Height               8594 non-null   float64\n",
      " 4   Body Mass Index      8495 non-null   float64\n",
      " 5   Obesity              8495 non-null   float64\n",
      " 6   Waist                8471 non-null   float64\n",
      " 7   Education            8765 non-null   float64\n",
      " 8   Unmarried            8333 non-null   float64\n",
      " 9   Income               7624 non-null   float64\n",
      " 10  Alcohol Consumption  8785 non-null   int64  \n",
      " 11  Diabetes             8783 non-null   float64\n",
      "dtypes: float64(9), int64(3)\n",
      "memory usage: 823.7 KB\n"
     ]
    }
   ],
   "source": [
    "dp.info()\n",
    "# there are no object data types"
   ]
  },
  {
   "cell_type": "code",
   "execution_count": 19,
   "id": "1a5190ee",
   "metadata": {},
   "outputs": [
    {
     "data": {
      "text/plain": [
       "<AxesSubplot:>"
      ]
     },
     "execution_count": 19,
     "metadata": {},
     "output_type": "execute_result"
    },
    {
     "data": {
      "image/png": "[encoded data removed]",
      "text/plain": [
       "<Figure size 1080x720 with 2 Axes>"
      ]
     },
     "metadata": {
      "needs_background": "light"
     },
     "output_type": "display_data"
    }
   ],
   "source": [
    "cmap = sns.diverging_palette(90,20,s=50, l=40, n=6,as_cmap=True)\n",
    "corrmat= dp.corr()\n",
    "f, ax = plt.subplots(figsize=(15,10))\n",
    "sns.heatmap(corrmat,cmap=cmap,annot=True, )"
   ]
  },
  {
   "cell_type": "code",
   "execution_count": 20,
   "id": "ca8b6b7a",
   "metadata": {},
   "outputs": [],
   "source": [
    "dp1 = dp.copy()"
   ]
  },
  {
   "cell_type": "code",
   "execution_count": 21,
   "id": "36349186",
   "metadata": {},
   "outputs": [
    {
     "data": {
      "text/plain": [
       "6"
      ]
     },
     "execution_count": 21,
     "metadata": {},
     "output_type": "execute_result"
    }
   ],
   "source": [
    "dp1.duplicated().sum()"
   ]
  },
  {
   "cell_type": "code",
   "execution_count": 22,
   "id": "ee6d3ab1",
   "metadata": {},
   "outputs": [],
   "source": [
    "dp1.drop_duplicates(inplace=True)\n",
    "# removed duplicated values"
   ]
  },
  {
   "cell_type": "code",
   "execution_count": null,
   "id": "b881acd6",
   "metadata": {},
   "outputs": [],
   "source": []
  },
  {
   "cell_type": "code",
   "execution_count": 23,
   "id": "c31ad152",
   "metadata": {},
   "outputs": [],
   "source": [
    "# Waist                8471 non-null   float64\n",
    "# Education            8765 non-null   float64\n",
    "# Unmarried            8333 non-null   float64"
   ]
  },
  {
   "cell_type": "markdown",
   "id": "305408dd",
   "metadata": {},
   "source": [
    "## Handle Missing Values "
   ]
  },
  {
   "cell_type": "code",
   "execution_count": 24,
   "id": "0fe04cc6",
   "metadata": {},
   "outputs": [
    {
     "data": {
      "text/plain": [
       "(8779, 12)"
      ]
     },
     "execution_count": 24,
     "metadata": {},
     "output_type": "execute_result"
    }
   ],
   "source": [
    "dp1.shape"
   ]
  },
  {
   "cell_type": "code",
   "execution_count": 25,
   "id": "6e7a5af8",
   "metadata": {},
   "outputs": [],
   "source": [
    "dp1.dropna(axis=0,inplace=True)"
   ]
  },
  {
   "cell_type": "code",
   "execution_count": 26,
   "id": "ab233d3c",
   "metadata": {},
   "outputs": [
    {
     "data": {
      "text/plain": [
       "(6880, 12)"
      ]
     },
     "execution_count": 26,
     "metadata": {},
     "output_type": "execute_result"
    }
   ],
   "source": [
    "dp1.shape"
   ]
  },
  {
   "cell_type": "code",
   "execution_count": 27,
   "id": "e83596fe",
   "metadata": {},
   "outputs": [
    {
     "data": {
      "text/plain": [
       "Age                    0\n",
       "Gender                 0\n",
       "Weight                 0\n",
       "Height                 0\n",
       "Body Mass Index        0\n",
       "Obesity                0\n",
       "Waist                  0\n",
       "Education              0\n",
       "Unmarried              0\n",
       "Income                 0\n",
       "Alcohol Consumption    0\n",
       "Diabetes               0\n",
       "dtype: int64"
      ]
     },
     "execution_count": 27,
     "metadata": {},
     "output_type": "execute_result"
    }
   ],
   "source": [
    "dp1.isnull().sum()"
   ]
  },
  {
   "cell_type": "code",
   "execution_count": 28,
   "id": "ecdf2f0b",
   "metadata": {},
   "outputs": [
    {
     "data": {
      "text/plain": [
       "(8785, 12)"
      ]
     },
     "execution_count": 28,
     "metadata": {},
     "output_type": "execute_result"
    }
   ],
   "source": [
    "dp.shape"
   ]
  },
  {
   "cell_type": "code",
   "execution_count": 29,
   "id": "1ac4965c",
   "metadata": {},
   "outputs": [
    {
     "data": {
      "text/html": [
       "<div>\n",
       "<style scoped>\n",
       "    .dataframe tbody tr th:only-of-type {\n",
       "        vertical-align: middle;\n",
       "    }\n",
       "\n",
       "    .dataframe tbody tr th {\n",
       "        vertical-align: top;\n",
       "    }\n",
       "\n",
       "    .dataframe thead th {\n",
       "        text-align: right;\n",
       "    }\n",
       "</style>\n",
       "<table border=\"1\" class=\"dataframe\">\n",
       "  <thead>\n",
       "    <tr style=\"text-align: right;\">\n",
       "      <th></th>\n",
       "      <th>Age</th>\n",
       "      <th>Gender</th>\n",
       "      <th>Weight</th>\n",
       "      <th>Height</th>\n",
       "      <th>Body Mass Index</th>\n",
       "      <th>Obesity</th>\n",
       "      <th>Waist</th>\n",
       "      <th>Education</th>\n",
       "      <th>Unmarried</th>\n",
       "      <th>Income</th>\n",
       "      <th>Alcohol Consumption</th>\n",
       "      <th>Diabetes</th>\n",
       "    </tr>\n",
       "  </thead>\n",
       "  <tbody>\n",
       "    <tr>\n",
       "      <th>0</th>\n",
       "      <td>65</td>\n",
       "      <td>1</td>\n",
       "      <td>56.0</td>\n",
       "      <td>162.1</td>\n",
       "      <td>21.31</td>\n",
       "      <td>0.0</td>\n",
       "      <td>83.6</td>\n",
       "      <td>0.0</td>\n",
       "      <td>0.0</td>\n",
       "      <td>1.0</td>\n",
       "      <td>1</td>\n",
       "      <td>0.0</td>\n",
       "    </tr>\n",
       "    <tr>\n",
       "      <th>2</th>\n",
       "      <td>66</td>\n",
       "      <td>1</td>\n",
       "      <td>83.9</td>\n",
       "      <td>162.5</td>\n",
       "      <td>31.77</td>\n",
       "      <td>1.0</td>\n",
       "      <td>113.2</td>\n",
       "      <td>0.0</td>\n",
       "      <td>1.0</td>\n",
       "      <td>0.0</td>\n",
       "      <td>1</td>\n",
       "      <td>1.0</td>\n",
       "    </tr>\n",
       "    <tr>\n",
       "      <th>3</th>\n",
       "      <td>54</td>\n",
       "      <td>1</td>\n",
       "      <td>69.4</td>\n",
       "      <td>160.5</td>\n",
       "      <td>26.94</td>\n",
       "      <td>0.0</td>\n",
       "      <td>77.9</td>\n",
       "      <td>1.0</td>\n",
       "      <td>0.0</td>\n",
       "      <td>0.0</td>\n",
       "      <td>1</td>\n",
       "      <td>0.0</td>\n",
       "    </tr>\n",
       "    <tr>\n",
       "      <th>5</th>\n",
       "      <td>26</td>\n",
       "      <td>0</td>\n",
       "      <td>119.3</td>\n",
       "      <td>193.2</td>\n",
       "      <td>31.96</td>\n",
       "      <td>1.0</td>\n",
       "      <td>117.9</td>\n",
       "      <td>1.0</td>\n",
       "      <td>0.0</td>\n",
       "      <td>0.0</td>\n",
       "      <td>0</td>\n",
       "      <td>0.0</td>\n",
       "    </tr>\n",
       "    <tr>\n",
       "      <th>6</th>\n",
       "      <td>66</td>\n",
       "      <td>0</td>\n",
       "      <td>85.1</td>\n",
       "      <td>172.1</td>\n",
       "      <td>28.73</td>\n",
       "      <td>0.0</td>\n",
       "      <td>99.2</td>\n",
       "      <td>1.0</td>\n",
       "      <td>0.0</td>\n",
       "      <td>0.0</td>\n",
       "      <td>0</td>\n",
       "      <td>0.0</td>\n",
       "    </tr>\n",
       "    <tr>\n",
       "      <th>...</th>\n",
       "      <td>...</td>\n",
       "      <td>...</td>\n",
       "      <td>...</td>\n",
       "      <td>...</td>\n",
       "      <td>...</td>\n",
       "      <td>...</td>\n",
       "      <td>...</td>\n",
       "      <td>...</td>\n",
       "      <td>...</td>\n",
       "      <td>...</td>\n",
       "      <td>...</td>\n",
       "      <td>...</td>\n",
       "    </tr>\n",
       "    <tr>\n",
       "      <th>8779</th>\n",
       "      <td>29</td>\n",
       "      <td>0</td>\n",
       "      <td>99.5</td>\n",
       "      <td>177.3</td>\n",
       "      <td>31.65</td>\n",
       "      <td>1.0</td>\n",
       "      <td>112.7</td>\n",
       "      <td>0.0</td>\n",
       "      <td>1.0</td>\n",
       "      <td>1.0</td>\n",
       "      <td>0</td>\n",
       "      <td>0.0</td>\n",
       "    </tr>\n",
       "    <tr>\n",
       "      <th>8781</th>\n",
       "      <td>66</td>\n",
       "      <td>0</td>\n",
       "      <td>102.0</td>\n",
       "      <td>180.7</td>\n",
       "      <td>31.24</td>\n",
       "      <td>1.0</td>\n",
       "      <td>113.2</td>\n",
       "      <td>0.0</td>\n",
       "      <td>0.0</td>\n",
       "      <td>1.0</td>\n",
       "      <td>0</td>\n",
       "      <td>0.0</td>\n",
       "    </tr>\n",
       "    <tr>\n",
       "      <th>8782</th>\n",
       "      <td>37</td>\n",
       "      <td>0</td>\n",
       "      <td>84.4</td>\n",
       "      <td>186.0</td>\n",
       "      <td>24.40</td>\n",
       "      <td>0.0</td>\n",
       "      <td>93.6</td>\n",
       "      <td>0.0</td>\n",
       "      <td>0.0</td>\n",
       "      <td>0.0</td>\n",
       "      <td>0</td>\n",
       "      <td>0.0</td>\n",
       "    </tr>\n",
       "    <tr>\n",
       "      <th>8783</th>\n",
       "      <td>39</td>\n",
       "      <td>0</td>\n",
       "      <td>92.1</td>\n",
       "      <td>184.8</td>\n",
       "      <td>26.97</td>\n",
       "      <td>0.0</td>\n",
       "      <td>98.2</td>\n",
       "      <td>1.0</td>\n",
       "      <td>0.0</td>\n",
       "      <td>1.0</td>\n",
       "      <td>0</td>\n",
       "      <td>0.0</td>\n",
       "    </tr>\n",
       "    <tr>\n",
       "      <th>8784</th>\n",
       "      <td>70</td>\n",
       "      <td>1</td>\n",
       "      <td>58.5</td>\n",
       "      <td>161.1</td>\n",
       "      <td>22.54</td>\n",
       "      <td>0.0</td>\n",
       "      <td>99.4</td>\n",
       "      <td>0.0</td>\n",
       "      <td>0.0</td>\n",
       "      <td>0.0</td>\n",
       "      <td>0</td>\n",
       "      <td>0.0</td>\n",
       "    </tr>\n",
       "  </tbody>\n",
       "</table>\n",
       "<p>6880 rows × 12 columns</p>\n",
       "</div>"
      ],
      "text/plain": [
       "      Age  Gender  Weight  Height  Body Mass Index  Obesity  Waist  Education  \\\n",
       "0      65       1    56.0   162.1            21.31      0.0   83.6        0.0   \n",
       "2      66       1    83.9   162.5            31.77      1.0  113.2        0.0   \n",
       "3      54       1    69.4   160.5            26.94      0.0   77.9        1.0   \n",
       "5      26       0   119.3   193.2            31.96      1.0  117.9        1.0   \n",
       "6      66       0    85.1   172.1            28.73      0.0   99.2        1.0   \n",
       "...   ...     ...     ...     ...              ...      ...    ...        ...   \n",
       "8779   29       0    99.5   177.3            31.65      1.0  112.7        0.0   \n",
       "8781   66       0   102.0   180.7            31.24      1.0  113.2        0.0   \n",
       "8782   37       0    84.4   186.0            24.40      0.0   93.6        0.0   \n",
       "8783   39       0    92.1   184.8            26.97      0.0   98.2        1.0   \n",
       "8784   70       1    58.5   161.1            22.54      0.0   99.4        0.0   \n",
       "\n",
       "      Unmarried  Income  Alcohol Consumption  Diabetes  \n",
       "0           0.0     1.0                    1       0.0  \n",
       "2           1.0     0.0                    1       1.0  \n",
       "3           0.0     0.0                    1       0.0  \n",
       "5           0.0     0.0                    0       0.0  \n",
       "6           0.0     0.0                    0       0.0  \n",
       "...         ...     ...                  ...       ...  \n",
       "8779        1.0     1.0                    0       0.0  \n",
       "8781        0.0     1.0                    0       0.0  \n",
       "8782        0.0     0.0                    0       0.0  \n",
       "8783        0.0     1.0                    0       0.0  \n",
       "8784        0.0     0.0                    0       0.0  \n",
       "\n",
       "[6880 rows x 12 columns]"
      ]
     },
     "execution_count": 29,
     "metadata": {},
     "output_type": "execute_result"
    }
   ],
   "source": [
    "dp.dropna()"
   ]
  },
  {
   "cell_type": "code",
   "execution_count": 30,
   "id": "fdd0bdd9",
   "metadata": {},
   "outputs": [
    {
     "data": {
      "text/plain": [
       "(8785, 12)"
      ]
     },
     "execution_count": 30,
     "metadata": {},
     "output_type": "execute_result"
    }
   ],
   "source": [
    "dp.shape"
   ]
  },
  {
   "cell_type": "code",
   "execution_count": 31,
   "id": "0cb7fe7a",
   "metadata": {},
   "outputs": [],
   "source": [
    "dp2 = dp.copy()"
   ]
  },
  {
   "cell_type": "code",
   "execution_count": 32,
   "id": "c0b128f9",
   "metadata": {},
   "outputs": [
    {
     "data": {
      "text/plain": [
       "(8785, 12)"
      ]
     },
     "execution_count": 32,
     "metadata": {},
     "output_type": "execute_result"
    }
   ],
   "source": [
    "dp2.shape"
   ]
  },
  {
   "cell_type": "code",
   "execution_count": 36,
   "id": "ac0789cc",
   "metadata": {},
   "outputs": [],
   "source": [
    "percent_missing = dp2.isnull().sum() * 100 / len(dp2)\n",
    "missing_value_df = pd.DataFrame({'column_name': dp2.columns,\n",
    "                                 'percent_missing': percent_missing})"
   ]
  },
  {
   "cell_type": "code",
   "execution_count": 37,
   "id": "34bde867",
   "metadata": {},
   "outputs": [
    {
     "data": {
      "text/html": [
       "<div>\n",
       "<style scoped>\n",
       "    .dataframe tbody tr th:only-of-type {\n",
       "        vertical-align: middle;\n",
       "    }\n",
       "\n",
       "    .dataframe tbody tr th {\n",
       "        vertical-align: top;\n",
       "    }\n",
       "\n",
       "    .dataframe thead th {\n",
       "        text-align: right;\n",
       "    }\n",
       "</style>\n",
       "<table border=\"1\" class=\"dataframe\">\n",
       "  <thead>\n",
       "    <tr style=\"text-align: right;\">\n",
       "      <th></th>\n",
       "      <th>column_name</th>\n",
       "      <th>percent_missing</th>\n",
       "    </tr>\n",
       "  </thead>\n",
       "  <tbody>\n",
       "    <tr>\n",
       "      <th>Age</th>\n",
       "      <td>Age</td>\n",
       "      <td>0.000000</td>\n",
       "    </tr>\n",
       "    <tr>\n",
       "      <th>Gender</th>\n",
       "      <td>Gender</td>\n",
       "      <td>0.000000</td>\n",
       "    </tr>\n",
       "    <tr>\n",
       "      <th>Weight</th>\n",
       "      <td>Weight</td>\n",
       "      <td>2.208310</td>\n",
       "    </tr>\n",
       "    <tr>\n",
       "      <th>Height</th>\n",
       "      <td>Height</td>\n",
       "      <td>2.174161</td>\n",
       "    </tr>\n",
       "    <tr>\n",
       "      <th>Body Mass Index</th>\n",
       "      <td>Body Mass Index</td>\n",
       "      <td>3.301081</td>\n",
       "    </tr>\n",
       "    <tr>\n",
       "      <th>Obesity</th>\n",
       "      <td>Obesity</td>\n",
       "      <td>3.301081</td>\n",
       "    </tr>\n",
       "    <tr>\n",
       "      <th>Waist</th>\n",
       "      <td>Waist</td>\n",
       "      <td>3.574274</td>\n",
       "    </tr>\n",
       "    <tr>\n",
       "      <th>Education</th>\n",
       "      <td>Education</td>\n",
       "      <td>0.227661</td>\n",
       "    </tr>\n",
       "    <tr>\n",
       "      <th>Unmarried</th>\n",
       "      <td>Unmarried</td>\n",
       "      <td>5.145134</td>\n",
       "    </tr>\n",
       "    <tr>\n",
       "      <th>Income</th>\n",
       "      <td>Income</td>\n",
       "      <td>13.215709</td>\n",
       "    </tr>\n",
       "    <tr>\n",
       "      <th>Alcohol Consumption</th>\n",
       "      <td>Alcohol Consumption</td>\n",
       "      <td>0.000000</td>\n",
       "    </tr>\n",
       "    <tr>\n",
       "      <th>Diabetes</th>\n",
       "      <td>Diabetes</td>\n",
       "      <td>0.022766</td>\n",
       "    </tr>\n",
       "  </tbody>\n",
       "</table>\n",
       "</div>"
      ],
      "text/plain": [
       "                             column_name  percent_missing\n",
       "Age                                  Age         0.000000\n",
       "Gender                            Gender         0.000000\n",
       "Weight                            Weight         2.208310\n",
       "Height                            Height         2.174161\n",
       "Body Mass Index          Body Mass Index         3.301081\n",
       "Obesity                          Obesity         3.301081\n",
       "Waist                              Waist         3.574274\n",
       "Education                      Education         0.227661\n",
       "Unmarried                      Unmarried         5.145134\n",
       "Income                            Income        13.215709\n",
       "Alcohol Consumption  Alcohol Consumption         0.000000\n",
       "Diabetes                        Diabetes         0.022766"
      ]
     },
     "execution_count": 37,
     "metadata": {},
     "output_type": "execute_result"
    }
   ],
   "source": [
    "missing_value_df"
   ]
  },
  {
   "cell_type": "code",
   "execution_count": null,
   "id": "a0e48685",
   "metadata": {},
   "outputs": [],
   "source": []
  },
  {
   "cell_type": "code",
   "execution_count": null,
   "id": "724a4dc4",
   "metadata": {},
   "outputs": [],
   "source": []
  },
  {
   "cell_type": "code",
   "execution_count": null,
   "id": "87271b69",
   "metadata": {},
   "outputs": [],
   "source": []
  },
  {
   "cell_type": "markdown",
   "id": "59260d3e",
   "metadata": {},
   "source": [
    "## SimpleImputer"
   ]
  },
  {
   "cell_type": "code",
   "execution_count": 33,
   "id": "ccde82a0",
   "metadata": {},
   "outputs": [
    {
     "data": {
      "text/plain": [
       "dtype('float64')"
      ]
     },
     "execution_count": 33,
     "metadata": {},
     "output_type": "execute_result"
    }
   ],
   "source": [
    "dp2['Education'].dtypes"
   ]
  },
  {
   "cell_type": "code",
   "execution_count": 34,
   "id": "a76a49d2",
   "metadata": {},
   "outputs": [
    {
     "data": {
      "text/plain": [
       "0.0    4982\n",
       "1.0    3783\n",
       "Name: Education, dtype: int64"
      ]
     },
     "execution_count": 34,
     "metadata": {},
     "output_type": "execute_result"
    }
   ],
   "source": [
    "dp2['Education'].value_counts()"
   ]
  },
  {
   "cell_type": "code",
   "execution_count": 43,
   "id": "e5f4e55c",
   "metadata": {},
   "outputs": [],
   "source": [
    "from sklearn.impute import SimpleImputer\n",
    "from sklearn.model_selection import train_test_split"
   ]
  },
  {
   "cell_type": "code",
   "execution_count": 42,
   "id": "153cdee4",
   "metadata": {},
   "outputs": [],
   "source": [
    "X = dp2.loc[:,['Waist','Education','Unmarried']]\n",
    "y = dp2['Diabetes']"
   ]
  },
  {
   "cell_type": "code",
   "execution_count": 44,
   "id": "aa10cf03",
   "metadata": {},
   "outputs": [],
   "source": [
    "X_train,X_test,y_train,y_test = train_test_split(X,y,test_size=0.2)"
   ]
  },
  {
   "cell_type": "code",
   "execution_count": 45,
   "id": "f7586a1b",
   "metadata": {},
   "outputs": [],
   "source": [
    "imputer = SimpleImputer(strategy='most_frequent')\n",
    "\n",
    "X_train = imputer.fit_transform(X_train)"
   ]
  },
  {
   "cell_type": "code",
   "execution_count": 46,
   "id": "b0bcce3e",
   "metadata": {},
   "outputs": [
    {
     "data": {
      "text/plain": [
       "array([97.,  0.,  0.])"
      ]
     },
     "execution_count": 46,
     "metadata": {},
     "output_type": "execute_result"
    }
   ],
   "source": [
    "imputer.statistics_"
   ]
  },
  {
   "cell_type": "code",
   "execution_count": 47,
   "id": "987fcc9f",
   "metadata": {},
   "outputs": [],
   "source": [
    "dp2['Waist'].fillna(97,inplace=True)"
   ]
  },
  {
   "cell_type": "code",
   "execution_count": 48,
   "id": "96ec2a00",
   "metadata": {},
   "outputs": [],
   "source": [
    "dp2['Education'].fillna(0,inplace=True)"
   ]
  },
  {
   "cell_type": "code",
   "execution_count": 49,
   "id": "a0a79949",
   "metadata": {},
   "outputs": [],
   "source": [
    "dp2['Unmarried'].fillna(0,inplace=True)"
   ]
  },
  {
   "cell_type": "code",
   "execution_count": 50,
   "id": "d316baba",
   "metadata": {},
   "outputs": [
    {
     "data": {
      "text/plain": [
       "Age                       0\n",
       "Gender                    0\n",
       "Weight                  194\n",
       "Height                  191\n",
       "Body Mass Index         290\n",
       "Obesity                 290\n",
       "Waist                     0\n",
       "Education                 0\n",
       "Unmarried                 0\n",
       "Income                 1161\n",
       "Alcohol Consumption       0\n",
       "Diabetes                  2\n",
       "dtype: int64"
      ]
     },
     "execution_count": 50,
     "metadata": {},
     "output_type": "execute_result"
    }
   ],
   "source": [
    "dp2.isnull().sum()"
   ]
  },
  {
   "cell_type": "code",
   "execution_count": 52,
   "id": "27e24412",
   "metadata": {},
   "outputs": [
    {
     "name": "stdout",
     "output_type": "stream",
     "text": [
      "85    249\n",
      "21    177\n",
      "22    176\n",
      "40    174\n",
      "20    173\n",
      "     ... \n",
      "58     77\n",
      "78     74\n",
      "84     66\n",
      "79     62\n",
      "83     53\n",
      "Name: Age, Length: 66, dtype: int64\n",
      "1    4630\n",
      "0    4155\n",
      "Name: Gender, dtype: int64\n",
      "62.80     31\n",
      "72.60     28\n",
      "69.40     28\n",
      "66.70     27\n",
      "68.70     27\n",
      "          ..\n",
      "138.30     1\n",
      "84.44      1\n",
      "63.44      1\n",
      "57.14      1\n",
      "80.04      1\n",
      "Name: Weight, Length: 1120, dtype: int64\n",
      "162.8    43\n",
      "166.2    41\n",
      "163.5    40\n",
      "163.6    40\n",
      "168.3    39\n",
      "         ..\n",
      "194.5     1\n",
      "189.3     1\n",
      "142.2     1\n",
      "199.4     1\n",
      "141.8     1\n",
      "Name: Height, Length: 553, dtype: int64\n",
      "26.51    16\n",
      "24.85    15\n",
      "27.55    15\n",
      "29.36    13\n",
      "29.72    13\n",
      "         ..\n",
      "40.89     1\n",
      "35.73     1\n",
      "42.41     1\n",
      "39.49     1\n",
      "30.48     1\n",
      "Name: Body Mass Index, Length: 2400, dtype: int64\n",
      "0.0    5811\n",
      "1.0    2684\n",
      "Name: Obesity, dtype: int64\n",
      "97.0     365\n",
      "98.0      52\n",
      "96.0      40\n",
      "91.0      38\n",
      "92.0      37\n",
      "        ... \n",
      "63.0       1\n",
      "161.0      1\n",
      "142.8      1\n",
      "60.4       1\n",
      "142.7      1\n",
      "Name: Waist, Length: 800, dtype: int64\n",
      "0.0    5002\n",
      "1.0    3783\n",
      "Name: Education, dtype: int64\n",
      "0.0    5713\n",
      "1.0    3072\n",
      "Name: Unmarried, dtype: int64\n",
      "0.0    4442\n",
      "1.0    3182\n",
      "Name: Income, dtype: int64\n",
      "0    6114\n",
      "1    2671\n",
      "Name: Alcohol Consumption, dtype: int64\n",
      "0.0    7805\n",
      "1.0     978\n",
      "Name: Diabetes, dtype: int64\n"
     ]
    }
   ],
   "source": [
    "for i in dp2.columns:\n",
    "    print(dp2[i].value_counts())"
   ]
  },
  {
   "cell_type": "code",
   "execution_count": null,
   "id": "fa3f95ef",
   "metadata": {},
   "outputs": [],
   "source": []
  }
 ],
 "metadata": {
  "kernelspec": {
   "display_name": "Python 3 (ipykernel)",
   "language": "python",
   "name": "python3"
  },
  "language_info": {
   "codemirror_mode": {
    "name": "ipython",
    "version": 3
   },
   "file_extension": ".py",
   "mimetype": "text/x-python",
   "name": "python",
   "nbconvert_exporter": "python",
   "pygments_lexer": "ipython3",
   "version": "3.9.12"
  }
 },
 "nbformat": 4,
 "nbformat_minor": 5
}
